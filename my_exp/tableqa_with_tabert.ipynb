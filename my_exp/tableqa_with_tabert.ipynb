{
 "cells": [
  {
   "cell_type": "code",
   "execution_count": 1,
   "metadata": {},
   "outputs": [
    {
     "name": "stderr",
     "output_type": "stream",
     "text": [
      "WARNING:root:You are using the old version of `pytorch_pretrained_bert`\n"
     ]
    }
   ],
   "source": [
    "from table_bert import TableBertModel"
   ]
  },
  {
   "cell_type": "code",
   "execution_count": 3,
   "metadata": {},
   "outputs": [
    {
     "name": "stderr",
     "output_type": "stream",
     "text": [
      "100%|██████████| 231508/231508 [00:00<00:00, 3064095.51B/s]\n",
      "100%|██████████| 407873900/407873900 [00:21<00:00, 19330953.32B/s]\n"
     ]
    },
    {
     "name": "stdout",
     "output_type": "stream",
     "text": [
      "torch.Size([1, 7, 768])\n",
      "torch.Size([1, 2, 768])\n",
      "{'tensor_dict': {'input_ids': tensor([[  101,  2265,  2033,  3032,  4396,  2011, 14230,   102,  3842,  1064,\n",
      "          3793,  1064,  2142,  2163,   102,  7977,  4968,  4031,  1064,  2613,\n",
      "          1064,  2538,  1010,  4724,  2683,  1010,   102]]), 'segment_ids': tensor([[0, 0, 0, 0, 0, 0, 0, 0, 1, 1, 1, 1, 1, 1, 1, 1, 1, 1, 1, 1, 1, 1, 1, 1,\n",
      "         1, 1, 1]]), 'attention_mask': tensor([[1., 1., 1., 1., 1., 1., 1., 1., 1., 1., 1., 1., 1., 1., 1., 1., 1., 1.,\n",
      "         1., 1., 1., 1., 1., 1., 1., 1., 1.]]), 'context_token_indices': tensor([[0, 1, 2, 3, 4, 5, 6]]), 'context_token_mask': tensor([[1., 1., 1., 1., 1., 1., 1.]]), 'column_token_to_column_id': tensor([[2, 2, 2, 2, 2, 2, 2, 2, 0, 0, 0, 0, 0, 0, 2, 1, 1, 1, 1, 1, 1, 1, 1, 1,\n",
      "         1, 1, 2]]), 'column_token_mask': tensor([[0., 0., 0., 0., 0., 0., 0., 0., 1., 1., 1., 1., 1., 1., 0., 1., 1., 1.,\n",
      "         1., 1., 1., 1., 1., 1., 1., 1., 0.]]), 'column_mask': tensor([[1., 1.]])}, 'instances': [{'tokens': ['[CLS]', 'show', 'me', 'countries', 'ranked', 'by', 'gdp', '[SEP]', 'nation', '|', 'text', '|', 'united', 'states', '[SEP]', 'gross', 'domestic', 'product', '|', 'real', '|', '21', ',', '43', '##9', ',', '[SEP]'], 'segment_a_length': 8, 'column_spans': [{'first_token': (8, 9), 'column_name': (8, 9), 'other_tokens': [9, 11], 'type': (10, 11), 'value': (12, 14), 'whole_span': (8, 14)}, {'first_token': (15, 16), 'column_name': (15, 18), 'other_tokens': [18, 20], 'type': (19, 20), 'value': (21, 26), 'whole_span': (15, 26)}], 'context_length': 7, 'context_span': (0, 7)}]}\n"
     ]
    }
   ],
   "source": [
    "model = TableBertModel.from_pretrained(\n",
    "    '/tabert/models/tabert_base_k1/model.bin',\n",
    ")\n",
    "\n",
    "from table_bert import Table, Column\n",
    "\n",
    "table = Table(\n",
    "    id='List of countries by GDP (PPP)',\n",
    "    header=[\n",
    "        Column('Nation', 'text', sample_value='United States'),\n",
    "        Column('Gross Domestic Product', 'real', sample_value='21,439,453')\n",
    "    ],\n",
    "    data=[\n",
    "        ['United States', '21,439,453'],\n",
    "        ['China', '27,308,857'],\n",
    "        ['European Union', '22,774,165'],\n",
    "    ]\n",
    ").tokenize(model.tokenizer)\n",
    "\n",
    "# To visualize table in an IPython notebook:\n",
    "# display(table.to_data_frame(), detokenize=True)\n",
    "\n",
    "context = 'show me countries ranked by GDP'\n",
    "\n",
    "# model takes batched, tokenized inputs\n",
    "context_encoding, column_encoding, info_dict = model.encode(\n",
    "    contexts=[model.tokenizer.tokenize(context)],\n",
    "    tables=[table]\n",
    ")\n",
    "\n",
    "print(context_encoding.shape)\n",
    "print(column_encoding.shape)\n",
    "print(info_dict)"
   ]
  },
  {
   "cell_type": "code",
   "execution_count": null,
   "metadata": {},
   "outputs": [],
   "source": []
  },
  {
   "cell_type": "code",
   "execution_count": null,
   "metadata": {},
   "outputs": [],
   "source": []
  }
 ],
 "metadata": {
  "kernelspec": {
   "display_name": "Python 3",
   "language": "python",
   "name": "python3"
  },
  "language_info": {
   "codemirror_mode": {
    "name": "ipython",
    "version": 3
   },
   "file_extension": ".py",
   "mimetype": "text/x-python",
   "name": "python",
   "nbconvert_exporter": "python",
   "pygments_lexer": "ipython3",
   "version": "3.6.12"
  }
 },
 "nbformat": 4,
 "nbformat_minor": 4
}
